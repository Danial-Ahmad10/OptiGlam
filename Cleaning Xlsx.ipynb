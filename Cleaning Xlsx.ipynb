{
 "cells": [
  {
   "cell_type": "code",
   "execution_count": 1,
   "metadata": {},
   "outputs": [],
   "source": [
    "import openpyxl\n",
    "import pandas as pd\n",
    "from openpyxl import Workbook\n",
    "from openpyxl.utils.dataframe import dataframe_to_rows\n",
    "from openpyxl.styles import Font"
   ]
  },
  {
   "cell_type": "markdown",
   "metadata": {},
   "source": [
    "Changing Hyperlink text to http"
   ]
  },
  {
   "cell_type": "code",
   "execution_count": 2,
   "metadata": {},
   "outputs": [],
   "source": [
    "def convert_hyperlinks_to_http(xlsx_file_path):\n",
    "    # Load the Excel file\n",
    "    wb = openpyxl.load_workbook(xlsx_file_path)\n",
    "    sheet = wb.active\n",
    "\n",
    "    # Iterate through each cell in the specified column\n",
    "    for cell in sheet[column_letter]:\n",
    "        # Check if the cell contains a hyperlink\n",
    "        if cell.hyperlink:\n",
    "            # Get the hyperlink URL\n",
    "            hyperlink_url = cell.hyperlink.target\n",
    "            # Replace the hyperlink text with the HTTP address\n",
    "            cell.value = f'http://{hyperlink_url}'\n",
    "\n",
    "    # Save the modified Excel file\n",
    "    wb.save(xlsx_file_path)\n",
    "\n",
    "# Example usage:\n",
    "xlsx_file_path = 'E:\\\\University\\\\FYP Stuff\\\\Dataset\\\\Youtube_Dataset.xlsx'  # Replace with the path to your Excel file\n",
    "column_letter = 'G' # Column in which the hyperlinks are\n",
    "convert_hyperlinks_to_http(xlsx_file_path)\n"
   ]
  },
  {
   "cell_type": "markdown",
   "metadata": {},
   "source": [
    "Removing # From Hexcode and then converting to Dec"
   ]
  },
  {
   "cell_type": "code",
   "execution_count": 3,
   "metadata": {},
   "outputs": [],
   "source": [
    "# Path to the Excel file\n",
    "file_path = 'E:\\\\University\\\\FYP Stuff\\\\Dataset\\\\Youtube_Dataset.xlsx'\n",
    "\n",
    "df = pd.read_excel(file_path)\n",
    "\n",
    "# Access the \"hexcode\" column and remove \"#\" from each cell\n",
    "df['foundationColorCode'] = df['foundationColorCode'].str.replace('#', '')\n",
    "# Converting the hex code into decimal\n",
    "df['foundationColorCode'] = df['foundationColorCode'].apply(lambda x: int(x, 16))\n",
    "\n",
    "# Code to preserve Web link\n",
    "\n",
    "# Create a new Workbook object and select active worksheet\n",
    "wb = Workbook()\n",
    "ws = wb.active\n",
    "\n",
    "# Convert DataFrame to rows and write to Excel worksheet\n",
    "for r_idx, row in enumerate(dataframe_to_rows(df, index=False, header=True)):\n",
    "    for c_idx, value in enumerate(row, 1):\n",
    "        # Preserve hyperlink format for \"productLink\" column\n",
    "        if df.columns[c_idx - 1] == \"productLink\":\n",
    "            cell = ws.cell(row=r_idx + 1, column=c_idx, value=value)\n",
    "            cell.style = \"Hyperlink\"\n",
    "            cell.font = Font(underline=\"single\", color=\"0563C1\")\n",
    "        else:\n",
    "            ws.cell(row=r_idx + 1, column=c_idx, value=value)"
   ]
  },
  {
   "cell_type": "markdown",
   "metadata": {},
   "source": [
    "Saving changes to new xlsx"
   ]
  },
  {
   "cell_type": "code",
   "execution_count": 4,
   "metadata": {},
   "outputs": [],
   "source": [
    "# Location and name of new file to be saved\n",
    "new_file_path = 'E:\\\\University\\\\FYP Stuff\\\\Dataset\\\\Youtube_Dataset_dec.xlsx'\n",
    "wb.save(new_file_path)"
   ]
  },
  {
   "cell_type": "markdown",
   "metadata": {},
   "source": [
    "Making new Column for skintone"
   ]
  },
  {
   "cell_type": "code",
   "execution_count": 5,
   "metadata": {},
   "outputs": [],
   "source": [
    "# Load the Excel file into a DataFrame\n",
    "file_path = 'E:\\\\University\\\\FYP Stuff\\\\Dataset\\\\Youtube_Dataset_dec.xlsx'\n",
    "df = pd.read_excel(file_path)\n",
    "\n",
    "# Get the index of the \"skinTone\" column\n",
    "index = df.columns.get_loc(\"skinTone\")\n",
    "\n",
    "# Add a new column named \"skinTone2\" right after the \"skinTone\" column\n",
    "df.insert(index + 1, \"skinTone2\", '')\n",
    "\n",
    "# Add a new column named \"SkinTone\" right after the \"skinTone\" column\n",
    "df.insert(index + 2, \"SkinTone\", '')\n",
    "\n",
    "# Code to preserve Web link\n",
    "# Create a new Workbook object and select active worksheet\n",
    "wb = Workbook()\n",
    "ws = wb.active\n",
    "\n",
    "# Convert DataFrame to rows and write to Excel worksheet\n",
    "for r_idx, row in enumerate(dataframe_to_rows(df, index=False, header=True)):\n",
    "    for c_idx, value in enumerate(row, 1):\n",
    "        # Preserve hyperlink format for \"productLink\" column\n",
    "        if df.columns[c_idx - 1] == \"productLink\":\n",
    "            cell = ws.cell(row=r_idx + 1, column=c_idx, value=value)\n",
    "            cell.style = \"Hyperlink\"\n",
    "            cell.font = Font(underline=\"single\", color=\"0563C1\")\n",
    "        else:\n",
    "            ws.cell(row=r_idx + 1, column=c_idx, value=value)\n",
    "\n",
    "# Location and name of new file to be saved\n",
    "new_file_path = 'E:\\\\University\\\\FYP Stuff\\\\Dataset\\\\Youtube_Dataset_dec.xlsx'\n",
    "wb.save(new_file_path)"
   ]
  }
 ],
 "metadata": {
  "kernelspec": {
   "display_name": "MyFirstEnv",
   "language": "python",
   "name": "python3"
  },
  "language_info": {
   "codemirror_mode": {
    "name": "ipython",
    "version": 3
   },
   "file_extension": ".py",
   "mimetype": "text/x-python",
   "name": "python",
   "nbconvert_exporter": "python",
   "pygments_lexer": "ipython3",
   "version": "3.10.12"
  }
 },
 "nbformat": 4,
 "nbformat_minor": 2
}
